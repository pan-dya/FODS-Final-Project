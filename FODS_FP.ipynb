{
  "nbformat": 4,
  "nbformat_minor": 0,
  "metadata": {
    "colab": {
      "provenance": []
    },
    "kernelspec": {
      "name": "python3",
      "display_name": "Python 3"
    },
    "language_info": {
      "name": "python"
    }
  },
  "cells": [
    {
      "cell_type": "markdown",
      "source": [
        "Importing the necessary library and the dataset"
      ],
      "metadata": {
        "id": "3AQ4k4487VH9"
      }
    },
    {
      "cell_type": "code",
      "execution_count": null,
      "metadata": {
        "id": "BAL5pX0-2Ims"
      },
      "outputs": [],
      "source": [
        "import pandas as pd\n",
        "import numpy as np\n",
        "import matplotlib.pyplot as plt\n",
        "from sklearn.model_selection import train_test_split\n",
        "from sklearn.impute import SimpleImputer\n",
        "from sklearn_pandas import CategoricalImputer\n",
        "from sklearn.compose import ColumnTransformer\n",
        "from sklearn.preprocessing import OneHotEncoder\n",
        "from sklearn.linear_model import LinearRegression\n",
        "from sklearn.metrics import r2_score, mean_squared_error\n",
        "from sklearn.metrics import accuracy_score\n",
        "import math\n",
        "\n",
        "# Importing the dataset\n",
        "dataset = pd.read_csv('Video_Games_Sales_as_at_22_Dec_2016.csv')"
      ]
    },
    {
      "cell_type": "markdown",
      "source": [
        "Dropping unnecessary features"
      ],
      "metadata": {
        "id": "5bS3qve67Zhy"
      }
    },
    {
      "cell_type": "code",
      "source": [
        "dataset.drop(columns = ['Year_of_Release', 'Developer', 'Publisher', 'Platform'], inplace = True)\n",
        "# View columns with missing values\n",
        "print(dataset.isna().sum())"
      ],
      "metadata": {
        "colab": {
          "base_uri": "https://localhost:8080/"
        },
        "id": "567aMW8A7cZQ",
        "outputId": "7adb080e-472d-474f-95a8-75e52bac72fe"
      },
      "execution_count": null,
      "outputs": [
        {
          "output_type": "stream",
          "name": "stdout",
          "text": [
            "Name               2\n",
            "Genre              2\n",
            "NA_Sales           0\n",
            "EU_Sales           0\n",
            "JP_Sales           0\n",
            "Other_Sales        0\n",
            "Global_Sales       0\n",
            "Critic_Score    8582\n",
            "Critic_Count    8582\n",
            "User_Score      9129\n",
            "User_Count      9129\n",
            "Rating          6769\n",
            "dtype: int64\n"
          ]
        }
      ]
    },
    {
      "cell_type": "markdown",
      "source": [
        "Creating Train and Test sets"
      ],
      "metadata": {
        "id": "IFywYoXy8Kw3"
      }
    },
    {
      "cell_type": "code",
      "source": [
        "# Deleting the global sales as it won't be needed for the train and test sets\n",
        "X = dataset.iloc[:, :].values\n",
        "X = np.delete(X, 6, 1)\n",
        "\n",
        "y = dataset.iloc[:, 6:7].values\n",
        "\n",
        "\n",
        "# Splitting the dataset into Train and Test sets\n",
        "X_train, X_test, y_train, y_test = train_test_split(X, y, test_size = 0.3, random_state = 0)\n",
        "\n",
        "# Separating the name of the games in different sets\n",
        "games_in_training_set = X_train[:, 0]\n",
        "games_in_test_set = X_test[:, 0]\n",
        "\n",
        "X_train = X_train[:, 1:]\n",
        "X_test = X_test[:, 1:]"
      ],
      "metadata": {
        "id": "kbjNAcsR2edI"
      },
      "execution_count": null,
      "outputs": []
    },
    {
      "cell_type": "markdown",
      "source": [
        "Fill Changing missing values with substituted values"
      ],
      "metadata": {
        "id": "KDYmR4319z5a"
      }
    },
    {
      "cell_type": "code",
      "source": [
        "imputer = SimpleImputer(strategy = 'mean')\n",
        "X_train[:, [5 ,6, 7, 8]] = imputer.fit_transform(X_train[:, [5, 6, 7, 8]])\n",
        "X_test[:, [5 ,6, 7, 8]] = imputer.transform(X_test[:, [5, 6, 7, 8]])\n",
        "\n",
        "categorical_imputer = CategoricalImputer(strategy = 'constant', fill_value = 'NA')\n",
        "X_train[:, [0, 9]] = categorical_imputer.fit_transform(X_train[:, [0, 9]])\n",
        "X_test[:, [0, 9]] = categorical_imputer.transform(X_test[:, [0, 9]])"
      ],
      "metadata": {
        "id": "Ne0ItINk253o"
      },
      "execution_count": null,
      "outputs": []
    },
    {
      "cell_type": "markdown",
      "source": [
        "Encoding the values into numeric forms"
      ],
      "metadata": {
        "id": "LqqW9-zg_OqT"
      }
    },
    {
      "cell_type": "code",
      "source": [
        "ct = ColumnTransformer(transformers = [('encoder', OneHotEncoder(), [0, 9])], remainder = 'passthrough') \n",
        "X_train = ct.fit_transform(X_train)\n",
        "X_test = ct.transform(X_test)"
      ],
      "metadata": {
        "id": "SDUn_-B5356L"
      },
      "execution_count": null,
      "outputs": []
    },
    {
      "cell_type": "markdown",
      "source": [
        "Creating the model"
      ],
      "metadata": {
        "id": "OZdkrl8j_9Xy"
      }
    },
    {
      "cell_type": "code",
      "source": [
        "model = LinearRegression()\n",
        "model.fit(X_train, y_train)"
      ],
      "metadata": {
        "colab": {
          "base_uri": "https://localhost:8080/"
        },
        "id": "c9U65emz4fAy",
        "outputId": "9def67e8-6db5-4145-bc69-a359eed8c551"
      },
      "execution_count": null,
      "outputs": [
        {
          "output_type": "execute_result",
          "data": {
            "text/plain": [
              "LinearRegression()"
            ]
          },
          "metadata": {},
          "execution_count": 12
        }
      ]
    },
    {
      "cell_type": "code",
      "source": [
        "y_pred = model.predict(X_test)\n",
        "plt.plot(y_test, y_pred, '.')\n",
        "x = np.linspace(0, 40, 100)\n",
        "y = x\n",
        "plt.plot(x, y)\n",
        "plt.show()\n",
        "\n",
        "\n",
        "# Visualising actual and predicted sales\n",
        "games_in_test_set = games_in_test_set.reshape(-1, 1)\n",
        "y_pred = y_pred.reshape(-1, 1)\n",
        "predictions = np.concatenate([games_in_test_set, y_pred, y_test], axis = 1)\n",
        "predictions = pd.DataFrame(predictions, columns = ['Name', 'Predicted_Global_Sales', 'Actual_Global_Sales'])\n",
        "predictions"
      ],
      "metadata": {
        "colab": {
          "base_uri": "https://localhost:8080/",
          "height": 672
        },
        "id": "d-zEPw6s61Uo",
        "outputId": "2945eee3-5653-4406-fa39-dc5457c1f376"
      },
      "execution_count": null,
      "outputs": [
        {
          "output_type": "display_data",
          "data": {
            "text/plain": [
              "<Figure size 432x288 with 1 Axes>"
            ],
            "image/png": "[encoded data removed]"
          },
          "metadata": {
            "needs_background": "light"
          }
        },
        {
          "output_type": "execute_result",
          "data": {
            "text/plain": [
              "                                Name Predicted_Global_Sales  \\\n",
              "0                       R-Type Final               0.180317   \n",
              "1       The Terminator: Dawn of Fate                 0.4106   \n",
              "2        Dead to Rights: Retribution               0.290353   \n",
              "3              Skylanders SWAP Force               2.150261   \n",
              "4                               DiRT               1.050122   \n",
              "...                              ...                    ...   \n",
              "5011                Dynasty Warriors               0.500498   \n",
              "5012  Transformers: Dark of the Moon               0.170439   \n",
              "5013           Brunswick Pro Bowling               0.210145   \n",
              "5014       Valentino Rossi: The Game               0.070324   \n",
              "5015         Street Fighter X Tekken               0.180244   \n",
              "\n",
              "     Actual_Global_Sales  \n",
              "0                   0.19  \n",
              "1                   0.41  \n",
              "2                   0.28  \n",
              "3                   2.15  \n",
              "4                   1.05  \n",
              "...                  ...  \n",
              "5011                0.51  \n",
              "5012                0.17  \n",
              "5013                0.21  \n",
              "5014                0.08  \n",
              "5015                0.19  \n",
              "\n",
              "[5016 rows x 3 columns]"
            ],
            "text/html": [
              "\n",
              "  <div id=\"df-f9add146-3707-4b7f-a947-53662f4510e0\">\n",
              "    <div class=\"colab-df-container\">\n",
              "      <div>\n",
              "<style scoped>\n",
              "    .dataframe tbody tr th:only-of-type {\n",
              "        vertical-align: middle;\n",
              "    }\n",
              "\n",
              "    .dataframe tbody tr th {\n",
              "        vertical-align: top;\n",
              "    }\n",
              "\n",
              "    .dataframe thead th {\n",
              "        text-align: right;\n",
              "    }\n",
              "</style>\n",
              "<table border=\"1\" class=\"dataframe\">\n",
              "  <thead>\n",
              "    <tr style=\"text-align: right;\">\n",
              "      <th></th>\n",
              "      <th>Name</th>\n",
              "      <th>Predicted_Global_Sales</th>\n",
              "      <th>Actual_Global_Sales</th>\n",
              "    </tr>\n",
              "  </thead>\n",
              "  <tbody>\n",
              "    <tr>\n",
              "      <th>0</th>\n",
              "      <td>R-Type Final</td>\n",
              "      <td>0.180317</td>\n",
              "      <td>0.19</td>\n",
              "    </tr>\n",
              "    <tr>\n",
              "      <th>1</th>\n",
              "      <td>The Terminator: Dawn of Fate</td>\n",
              "      <td>0.4106</td>\n",
              "      <td>0.41</td>\n",
              "    </tr>\n",
              "    <tr>\n",
              "      <th>2</th>\n",
              "      <td>Dead to Rights: Retribution</td>\n",
              "      <td>0.290353</td>\n",
              "      <td>0.28</td>\n",
              "    </tr>\n",
              "    <tr>\n",
              "      <th>3</th>\n",
              "      <td>Skylanders SWAP Force</td>\n",
              "      <td>2.150261</td>\n",
              "      <td>2.15</td>\n",
              "    </tr>\n",
              "    <tr>\n",
              "      <th>4</th>\n",
              "      <td>DiRT</td>\n",
              "      <td>1.050122</td>\n",
              "      <td>1.05</td>\n",
              "    </tr>\n",
              "    <tr>\n",
              "      <th>...</th>\n",
              "      <td>...</td>\n",
              "      <td>...</td>\n",
              "      <td>...</td>\n",
              "    </tr>\n",
              "    <tr>\n",
              "      <th>5011</th>\n",
              "      <td>Dynasty Warriors</td>\n",
              "      <td>0.500498</td>\n",
              "      <td>0.51</td>\n",
              "    </tr>\n",
              "    <tr>\n",
              "      <th>5012</th>\n",
              "      <td>Transformers: Dark of the Moon</td>\n",
              "      <td>0.170439</td>\n",
              "      <td>0.17</td>\n",
              "    </tr>\n",
              "    <tr>\n",
              "      <th>5013</th>\n",
              "      <td>Brunswick Pro Bowling</td>\n",
              "      <td>0.210145</td>\n",
              "      <td>0.21</td>\n",
              "    </tr>\n",
              "    <tr>\n",
              "      <th>5014</th>\n",
              "      <td>Valentino Rossi: The Game</td>\n",
              "      <td>0.070324</td>\n",
              "      <td>0.08</td>\n",
              "    </tr>\n",
              "    <tr>\n",
              "      <th>5015</th>\n",
              "      <td>Street Fighter X Tekken</td>\n",
              "      <td>0.180244</td>\n",
              "      <td>0.19</td>\n",
              "    </tr>\n",
              "  </tbody>\n",
              "</table>\n",
              "<p>5016 rows × 3 columns</p>\n",
              "</div>\n",
              "      <button class=\"colab-df-convert\" onclick=\"convertToInteractive('df-f9add146-3707-4b7f-a947-53662f4510e0')\"\n",
              "              title=\"Convert this dataframe to an interactive table.\"\n",
              "              style=\"display:none;\">\n",
              "        \n",
              "  <svg xmlns=\"http://www.w3.org/2000/svg\" height=\"24px\"viewBox=\"0 0 24 24\"\n",
              "       width=\"24px\">\n",
              "    <path d=\"M0 0h24v24H0V0z\" fill=\"none\"/>\n",
              "    <path d=\"M18.56 5.44l.94 2.06.94-2.06 2.06-.94-2.06-.94-.94-2.06-.94 2.06-2.06.94zm-11 1L8.5 8.5l.94-2.06 2.06-.94-2.06-.94L8.5 2.5l-.94 2.06-2.06.94zm10 10l.94 2.06.94-2.06 2.06-.94-2.06-.94-.94-2.06-.94 2.06-2.06.94z\"/><path d=\"M17.41 7.96l-1.37-1.37c-.4-.4-.92-.59-1.43-.59-.52 0-1.04.2-1.43.59L10.3 9.45l-7.72 7.72c-.78.78-.78 2.05 0 2.83L4 21.41c.39.39.9.59 1.41.59.51 0 1.02-.2 1.41-.59l7.78-7.78 2.81-2.81c.8-.78.8-2.07 0-2.86zM5.41 20L4 18.59l7.72-7.72 1.47 1.35L5.41 20z\"/>\n",
              "  </svg>\n",
              "      </button>\n",
              "      \n",
              "  <style>\n",
              "    .colab-df-container {\n",
              "      display:flex;\n",
              "      flex-wrap:wrap;\n",
              "      gap: 12px;\n",
              "    }\n",
              "\n",
              "    .colab-df-convert {\n",
              "      background-color: #E8F0FE;\n",
              "      border: none;\n",
              "      border-radius: 50%;\n",
              "      cursor: pointer;\n",
              "      display: none;\n",
              "      fill: #1967D2;\n",
              "      height: 32px;\n",
              "      padding: 0 0 0 0;\n",
              "      width: 32px;\n",
              "    }\n",
              "\n",
              "    .colab-df-convert:hover {\n",
              "      background-color: #E2EBFA;\n",
              "      box-shadow: 0px 1px 2px rgba(60, 64, 67, 0.3), 0px 1px 3px 1px rgba(60, 64, 67, 0.15);\n",
              "      fill: #174EA6;\n",
              "    }\n",
              "\n",
              "    [theme=dark] .colab-df-convert {\n",
              "      background-color: #3B4455;\n",
              "      fill: #D2E3FC;\n",
              "    }\n",
              "\n",
              "    [theme=dark] .colab-df-convert:hover {\n",
              "      background-color: #434B5C;\n",
              "      box-shadow: 0px 1px 3px 1px rgba(0, 0, 0, 0.15);\n",
              "      filter: drop-shadow(0px 1px 2px rgba(0, 0, 0, 0.3));\n",
              "      fill: #FFFFFF;\n",
              "    }\n",
              "  </style>\n",
              "\n",
              "      <script>\n",
              "        const buttonEl =\n",
              "          document.querySelector('#df-f9add146-3707-4b7f-a947-53662f4510e0 button.colab-df-convert');\n",
              "        buttonEl.style.display =\n",
              "          google.colab.kernel.accessAllowed ? 'block' : 'none';\n",
              "\n",
              "        async function convertToInteractive(key) {\n",
              "          const element = document.querySelector('#df-f9add146-3707-4b7f-a947-53662f4510e0');\n",
              "          const dataTable =\n",
              "            await google.colab.kernel.invokeFunction('convertToInteractive',\n",
              "                                                     [key], {});\n",
              "          if (!dataTable) return;\n",
              "\n",
              "          const docLinkHtml = 'Like what you see? Visit the ' +\n",
              "            '<a target=\"_blank\" href=https://colab.research.google.com/notebooks/data_table.ipynb>data table notebook</a>'\n",
              "            + ' to learn more about interactive tables.';\n",
              "          element.innerHTML = '';\n",
              "          dataTable['output_type'] = 'display_data';\n",
              "          await google.colab.output.renderOutput(dataTable, element);\n",
              "          const docLink = document.createElement('div');\n",
              "          docLink.innerHTML = docLinkHtml;\n",
              "          element.appendChild(docLink);\n",
              "        }\n",
              "      </script>\n",
              "    </div>\n",
              "  </div>\n",
              "  "
            ]
          },
          "metadata": {},
          "execution_count": 13
        }
      ]
    },
    {
      "cell_type": "code",
      "source": [
        "r2_score = r2_score(y_test, y_pred)\n",
        "rmse = math.sqrt(mean_squared_error(y_test, y_pred))\n",
        "print(f\"r2 score of the model : {r2_score}\")\n",
        "print(f\"Root Mean Squared Error of the model : {rmse}\")"
      ],
      "metadata": {
        "colab": {
          "base_uri": "https://localhost:8080/"
        },
        "id": "2T6Rfm4F9gxU",
        "outputId": "887c68a7-6d69-4d2e-da90-55900ee1daf8"
      },
      "execution_count": null,
      "outputs": [
        {
          "output_type": "stream",
          "name": "stdout",
          "text": [
            "r2 score of the model : 0.9999871024721011\n",
            "Root Mean Squared Error of the model : 0.005155999238873585\n"
          ]
        }
      ]
    },
    {
      "cell_type": "code",
      "source": [
        "predictions.to_csv('predicted_sales.csv', index=False)"
      ],
      "metadata": {
        "id": "cl5RRnSeAi2o"
      },
      "execution_count": null,
      "outputs": []
    }
  ]
}